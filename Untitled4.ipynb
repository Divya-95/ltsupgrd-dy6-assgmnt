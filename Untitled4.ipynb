{
  "nbformat": 4,
  "nbformat_minor": 0,
  "metadata": {
    "colab": {
      "name": "Untitled4.ipynb",
      "provenance": [],
      "collapsed_sections": [],
      "authorship_tag": "ABX9TyMhCEDqdYZoxzvJ8CiugIyA",
      "include_colab_link": true
    },
    "kernelspec": {
      "name": "python3",
      "display_name": "Python 3"
    }
  },
  "cells": [
    {
      "cell_type": "markdown",
      "metadata": {
        "id": "view-in-github",
        "colab_type": "text"
      },
      "source": [
        "<a href=\"https://colab.research.google.com/github/Divya-95/ltsupgrd-dy6-assgmnt/blob/master/Untitled4.ipynb\" target=\"_parent\"><img src=\"https://colab.research.google.com/assets/colab-badge.svg\" alt=\"Open In Colab\"/></a>"
      ]
    },
    {
      "cell_type": "code",
      "metadata": {
        "id": "Xrd3duStDq2I",
        "colab_type": "code",
        "colab": {}
      },
      "source": [
        " import math\n",
        " \n",
        "pi = math.pi\n",
        " \n",
        "class cone:\n",
        "    \n",
        "    def __init__(self,r,h): \n",
        " \n",
        "        self.r=r\n",
        "        \n",
        "        self.h=h\n",
        "        \n",
        "    def volume(self):\n",
        "        \n",
        "        result = (1 / 3) * pi * self.r * self.r * self.h\n",
        "        \n",
        "        print(\"\\nVolume Of Cone is :\",result)\n",
        "        \n",
        "    def surfacearea(self):\n",
        "        \n",
        "        result = pi * self.r * self.h + pi * self.r * self.r\n",
        "         \n",
        "        print(\"\\nSurface Area Of Cone is :\",result)"
      ],
      "execution_count": 1,
      "outputs": []
    },
    {
      "cell_type": "code",
      "metadata": {
        "id": "Xo1GRAFoECwi",
        "colab_type": "code",
        "colab": {
          "base_uri": "https://localhost:8080/",
          "height": 176
        },
        "outputId": "2a7383d2-b5ab-4f6f-f398-9692d94ba046"
      },
      "source": [
        " ra = float(input(\"\\nEnter the radius of cone : \"))\n",
        " \n",
        "he = float(input(\"\\nEnter the height of cone : \"))\n",
        " \n",
        "c = cone( ra, he)\n",
        " \n",
        "c.volume()\n",
        " \n",
        "c.surfacearea()"
      ],
      "execution_count": 2,
      "outputs": [
        {
          "output_type": "stream",
          "text": [
            "\n",
            "Enter the radius of cone : 5\n",
            "\n",
            "Enter the height of cone : 8\n",
            "\n",
            "Volume Of Cone is : 209.43951023931953\n",
            "\n",
            "Surface Area Of Cone is : 204.20352248333654\n"
          ],
          "name": "stdout"
        }
      ]
    }
  ]
}